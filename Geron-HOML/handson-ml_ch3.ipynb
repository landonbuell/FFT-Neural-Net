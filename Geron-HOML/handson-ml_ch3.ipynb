{
 "cells": [
  {
   "cell_type": "code",
   "execution_count": 2,
   "metadata": {},
   "outputs": [],
   "source": [
    "\"\"\"\n",
    "Landon Buell\n",
    "Hands on Machien Learning\n",
    "Ch.3 - Classification\n",
    "2 Novemebr 2019\n",
    "\"\"\"\n",
    "\n",
    "import numpy as np\n",
    "import matplotlib.pyplot as plt\n",
    "import matplotlib.cm as cm\n",
    "from sklearn.datasets import fetch_openml"
   ]
  },
  {
   "cell_type": "code",
   "execution_count": 11,
   "metadata": {},
   "outputs": [
    {
     "name": "stdout",
     "output_type": "stream",
     "text": [
      "Dictionary Keys:\n"
     ]
    },
    {
     "data": {
      "text/plain": [
       "dict_keys(['data', 'target', 'feature_names', 'DESCR', 'details', 'categories', 'url'])"
      ]
     },
     "execution_count": 11,
     "metadata": {},
     "output_type": "execute_result"
    }
   ],
   "source": [
    "\"\"\" MNIST Data set of Hand-Written Characters \"\"\"\n",
    "\n",
    "# fetch the dataset\n",
    "mnist = fetch_openml('mnist_784',version=1)\n",
    "print(\"Dictionary Keys:\")\n",
    "mnist.keys()"
   ]
  },
  {
   "cell_type": "code",
   "execution_count": 12,
   "metadata": {
    "scrolled": false
   },
   "outputs": [
    {
     "name": "stdout",
     "output_type": "stream",
     "text": [
      "(70000, 784)\n",
      "(70000,)\n"
     ]
    }
   ],
   "source": [
    "# Look at particular data arrays\n",
    "X,Y = mnist[\"data\"],mnist[\"target\"]\n",
    "print(np.shape(X))\n",
    "print(np.shape(Y))\n",
    "\n",
    "# there are 70,000 images, each with (28x28) pixels "
   ]
  },
  {
   "cell_type": "code",
<<<<<<< HEAD
   "execution_count": 15,
=======
   "execution_count": 13,
>>>>>>> 393bd88b87c9b874c116d90fd70571d343ab8e7f
   "metadata": {},
   "outputs": [
    {
     "data": {
      "image/png": "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\n",
      "text/plain": [
       "<Figure size 288x288 with 1 Axes>"
      ]
     },
     "metadata": {
      "needs_background": "light"
     },
     "output_type": "display_data"
    },
    {
     "name": "stdout",
     "output_type": "stream",
     "text": [
      "5\n"
     ]
    }
   ],
   "source": [
    "# Examine single digit\n",
    "digit = X[0]\n",
    "image = digit.reshape(28,28)\n",
    "\n",
    "plt.figure(figsize=(4,4))\n",
    "plt.imshow(image,cmap=cm.binary,interpolation='nearest')\n",
    "plt.axis(\"off\")\n",
    "plt.savefig('Five.png')\n",
    "plt.show()\n",
    "# looks like a '5', print what it actually is\n",
    "print(Y[0])\n",
    "# it's labeled a 5!\n",
    "Y = Y.astype(np.uint8)\n"
   ]
  },
  {
   "cell_type": "code",
<<<<<<< HEAD
   "execution_count": 16,
=======
   "execution_count": 14,
>>>>>>> 393bd88b87c9b874c116d90fd70571d343ab8e7f
   "metadata": {},
   "outputs": [],
   "source": [
    "# isolate training and testing datasets\n",
    "X_train,X_test = X[:60000],X[60000:]\n",
    "Y_train,Y_test = Y[:60000],Y[60000:]\n",
    "# already shuffled, so good cross validation"
   ]
  },
  {
   "cell_type": "code",
   "execution_count": 17,
   "metadata": {},
   "outputs": [
    {
     "name": "stderr",
     "output_type": "stream",
     "text": [
      "C:\\Users\\Landon\\Anaconda3\\lib\\site-packages\\sklearn\\linear_model\\stochastic_gradient.py:166: FutureWarning: max_iter and tol parameters have been added in SGDClassifier in 0.19. If both are left unset, they default to max_iter=5 and tol=None. If tol is not None, max_iter defaults to max_iter=1000. From 0.21, default max_iter will be 1000, and default tol will be 1e-3.\n",
      "  FutureWarning)\n"
     ]
    },
    {
     "data": {
      "text/plain": [
       "array([False])"
      ]
     },
     "execution_count": 17,
     "metadata": {},
     "output_type": "execute_result"
    }
   ],
   "source": [
    "\"\"\" Training a Binary Classifier \"\"\"\n",
    "\n",
    "# Create a binary classifier as a \"5-Detector\", find all instances\n",
    "y_train_5 = (Y_train == 5)\n",
    "y_test_5 = (Y_test == 5)\n",
    "\n",
    "# start with \"Stochastic Gradient Descent\" (SGD) classifer\n",
    "from sklearn.linear_model import SGDClassifier\n",
    "\n",
    "sgd_clf = SGDClassifier(random_state=42)\n",
    "sgd_clf.fit(X_train,y_train_5)\n",
    "# this maps the X_training data (the images of digits)\n",
    "# To the known training values of '5'\n",
    "\n",
    "sgd_clf.predict([digit])\n",
    "# correctly identifies that x[0] is a 5!"
   ]
  },
  {
   "cell_type": "code",
<<<<<<< HEAD
   "execution_count": 19,
   "metadata": {
    "scrolled": true
   },
=======
   "execution_count": 16,
   "metadata": {},
>>>>>>> 393bd88b87c9b874c116d90fd70571d343ab8e7f
   "outputs": [
    {
     "name": "stdout",
     "output_type": "stream",
     "text": [
      "Image Labeled as: 3\n"
     ]
    },
    {
     "data": {
      "image/png": "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\n",
      "text/plain": [
       "<Figure size 288x288 with 1 Axes>"
      ]
     },
     "metadata": {
      "needs_background": "light"
     },
     "output_type": "display_data"
    },
    {
     "data": {
      "text/plain": [
       "array([False])"
      ]
     },
<<<<<<< HEAD
     "execution_count": 19,
=======
     "execution_count": 16,
>>>>>>> 393bd88b87c9b874c116d90fd70571d343ab8e7f
     "metadata": {},
     "output_type": "execute_result"
    }
   ],
   "source": [
    "idx = 2020\n",
    "\n",
    "# Run test on a single index in the training dataset\n",
    "test = X_test[idx]\n",
    "print(\"Image Labeled as:\",Y_test[idx])\n",
    "image = test.reshape(28,28)\n",
    "\n",
    "plt.figure(figsize=(4,4))\n",
    "plt.imshow(image,cmap=cm.binary,interpolation='nearest')\n",
    "plt.axis(\"off\")\n",
    "plt.savefig(str(Y_test[idx])+'.png')\n",
    "plt.show()\n",
    "\n",
    "sgd_clf.predict([test])"
   ]
  },
  {
   "cell_type": "code",
   "execution_count": 10,
   "metadata": {},
   "outputs": [
    {
     "data": {
      "text/plain": [
       "array([0.95035, 0.96035, 0.9604 ])"
      ]
     },
     "execution_count": 10,
     "metadata": {},
     "output_type": "execute_result"
    }
   ],
   "source": [
    "\"\"\" Performance Measure \"\"\"\n",
    "\n",
    "# use cross_val_score() function to evaulate the SGD classifier\n",
    "from sklearn.model_selection import cross_val_score\n",
    "\n",
    "cross_val_score(sgd_clf,X_train,y_train_5,cv=3,scoring='accuracy')\n",
    "# Cross_val_score args: (Uses K-fold X-validation)\n",
    "    # classifier object\n",
    "    # x training data\n",
    "    # y training data (labeled data)\n",
    "    # cv = num of crossval folds\n",
    "    \n",
    "# prints: array([0.95035, 0.96035, 0.9604 ])\n",
    "# Mostly above 95% accuracy"
   ]
  },
  {
   "cell_type": "code",
   "execution_count": 9,
   "metadata": {},
   "outputs": [
    {
     "data": {
      "text/plain": [
       "array([0.91125, 0.90855, 0.90915])"
      ]
     },
     "execution_count": 9,
     "metadata": {},
     "output_type": "execute_result"
    }
   ],
   "source": [
    "from sklearn.base import BaseEstimator\n",
    "\n",
    "# Look at a 'dumb' classiifier - the \"never5Class\"\n",
    "\n",
    "class Never5Classifier (BaseEstimator):\n",
    "    def fit(self,X,Y=None):\n",
    "        pass\n",
    "    def predict(self,X):\n",
    "        return np.zeros((len(X),1),dtype=bool)\n",
    "    \n",
    "# test Model's accuracy\n",
    "never_5_clf = Never5Classifier()\n",
    "cross_val_score(never_5_clf,X_train,y_train_5,cv=3,scoring='accuracy')\n",
    "\n",
    "# prints: array([0.91125, 0.90855, 0.90915])\n",
    "# 90% accuracy - too bad 90% of data is NOT 5\n",
    "# This model is as good as just guessing"
   ]
  },
  {
   "cell_type": "code",
   "execution_count": 9,
   "metadata": {},
   "outputs": [
    {
     "name": "stdout",
     "output_type": "stream",
     "text": [
      "[[53892   687]\n",
      " [ 1891  3530]]\n"
     ]
    }
   ],
   "source": [
    "\"\"\" Confusion Matrix \"\"\"\n",
    "\n",
    "# Generally a Better way to evaluate the performance of a classifer object\n",
    "# Build a cross validation prediction model\n",
    "\n",
    "from sklearn.model_selection import cross_val_predict\n",
    "from sklearn.metrics import confusion_matrix\n",
    "\n",
    "y_train_pred = cross_val_predict(sgd_clf,X_train,y_train_5,cv=3)\n",
    "\n",
    "# used K-Fold X-Validation \n",
    "# Instead of evaluation score, model returns predictions of each test fold\n",
    "\n",
    "con_mat = confusion_matrix(y_train_5,y_train_pred)\n",
    "# Confusion Matrix Arguments:\n",
    "    # y_train_5 is raw training set\n",
    "    # y_train-pred is X-Val predicted data\n",
    "print(con_mat)"
   ]
  },
  {
   "cell_type": "code",
   "execution_count": 10,
   "metadata": {},
   "outputs": [
    {
     "data": {
      "text/plain": [
       "array([[54579,     0],\n",
       "       [    0,  5421]], dtype=int64)"
      ]
     },
     "execution_count": 10,
     "metadata": {},
     "output_type": "execute_result"
    }
   ],
   "source": [
    "# Pretend we have perfect model\n",
    "\n",
    "y_train_perfect_pred = y_train_5\n",
    "confusion_matrix(y_train_5,y_train_perfect_pred)\n",
    "\n",
    "# New confusion matrix - perfectly diagonal"
   ]
  },
  {
   "cell_type": "code",
   "execution_count": 11,
   "metadata": {},
   "outputs": [
    {
     "name": "stdout",
     "output_type": "stream",
     "text": [
      "Precision score: 0.8370879772350012\n",
      "Recall Score: 0.6511713705958311\n",
      "F1 Score: 0.7325171197343846\n"
     ]
    }
   ],
   "source": [
    "# Can also use Precision & Recall to verify legtimacy of model\n",
    "\n",
    "from sklearn.metrics import precision_score , recall_score\n",
    "\n",
    "# Precision score = (TP)/(TP+FN)\n",
    "pres = precision_score(y_train_5,y_train_pred)\n",
    "print(\"Precision score:\",pres)\n",
    "# recall score = (TP)/(TP + FN)\n",
    "recl = recall_score(y_train_5,y_train_pred)\n",
    "print(\"Recall Score:\",recl)\n",
    "\n",
    "# this indicates about the 5-Detector:\n",
    "# Finds a 5 correctly, only 83 % of the time\n",
    "# Only detects a 5, 65% of the time\n",
    "\n",
    "from sklearn.metrics import f1_score\n",
    "\n",
    "# Combined these metrics into an \"F_1 score\"\n",
    "# also called harmonic mean of precision & recall\n",
    "\n",
    "f1 = f1_score(y_train_5,y_train_pred)\n",
    "print(\"F1 Score:\",f1)\n"
   ]
  },
  {
   "cell_type": "code",
   "execution_count": 12,
   "metadata": {},
   "outputs": [
    {
     "name": "stdout",
     "output_type": "stream",
     "text": [
      "Classification Score: [2164.22030239]\n",
      "Is '5': [ True]\n",
      "Is '5': [False]\n"
     ]
    }
   ],
   "source": [
    "\"\"\" Find Score for Each Binary Classifier Decision \"\"\"\n",
    "\n",
    "# classification score\n",
    "y_scores = sgd_clf.decision_function([digit])\n",
    "print(\"Classification Score:\",y_scores)\n",
    "\n",
    "# manually set threshold\n",
    "threshold = 0\n",
    "y_digit_predict = (y_scores > threshold)\n",
    "print(\"Is '5':\",y_digit_predict)\n",
    "\n",
    "# SGD Classifier uses a threshold of 0 by default\n",
    "# manually set it to 20000 for example:\n",
    "\n",
    "threshold = 20000\n",
    "y_digit_predict = (y_scores > threshold)\n",
    "print(\"Is '5':\",y_digit_predict)\n",
    "\n",
    "# This decreases the recall score"
   ]
  },
  {
   "cell_type": "code",
   "execution_count": null,
   "metadata": {},
   "outputs": [],
   "source": [
    "\"\"\" Deciding a threshold to use \"\"\"\n",
    "\n",
    "# get scores of all instances in the training set, using cross_val_predict()\n",
    "# Use decision function instead of predictions\n",
    "y_scores = cross_val_predict(sgd_clf,X_train,y_train_5,\n",
    "                             cv=3,method='decision_function')\n",
    "\n",
    "# All precisions & Recalls can be computed \n",
    "from sklearn.metrics import precision_recall_curve\n",
    "\n",
    "precisions,recalls,thresholds = precision_recall_curve(Y_train_5,y_scores)\n"
   ]
  },
  {
   "cell_type": "code",
   "execution_count": null,
   "metadata": {},
   "outputs": [],
   "source": [
    "def Plot_Precision_Recall (precs,recalls,threshs):\n",
    "    \"\"\" Matplotlib precision Recall Curve \"\"\"\n",
    "    plt.figure(figsize=(20,8))\n",
    "    plt.xlabel(\"Threshold\",size=20,weight='bold')\n",
    "    plt.plot(threshs,precesions[:-1],'b--',label=\"Precision\")\n",
    "    plt.plot(threshs,recalls[:-1],'g--',label='Recall')\n",
    "    plt.ylim([0,1])\n",
    "    plt.legend()\n",
    "    plt.grid()\n",
    "    plt.tight_layout()\n",
    "    plt.show()"
   ]
  }
 ],
 "metadata": {
  "kernelspec": {
   "display_name": "Python 3",
   "language": "python",
   "name": "python3"
  },
  "language_info": {
   "codemirror_mode": {
    "name": "ipython",
    "version": 3
   },
   "file_extension": ".py",
   "mimetype": "text/x-python",
   "name": "python",
   "nbconvert_exporter": "python",
   "pygments_lexer": "ipython3",
   "version": "3.7.3"
  }
 },
 "nbformat": 4,
 "nbformat_minor": 2
}
