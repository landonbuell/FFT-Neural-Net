{
 "cells": [
  {
   "cell_type": "code",
   "execution_count": 1,
   "metadata": {},
   "outputs": [],
   "source": [
    "\"\"\"\n",
    "Landon Buell\n",
    "Hands on Machien Learning\n",
    "Ch.3 - Classification\n",
    "2 Novemebr 2019\n",
    "\"\"\"\n",
    "\n",
    "import numpy as np\n",
    "import matplotlib.pyplot as plt\n",
    "import matplotlib.cm as cm\n",
    "from sklearn.datasets import fetch_openml"
   ]
  },
  {
   "cell_type": "code",
   "execution_count": 2,
   "metadata": {},
   "outputs": [
    {
     "name": "stdout",
     "output_type": "stream",
     "text": [
      "Dictionary Keys:\n"
     ]
    },
    {
     "data": {
      "text/plain": [
       "dict_keys(['data', 'target', 'feature_names', 'DESCR', 'details', 'categories', 'url'])"
      ]
     },
     "execution_count": 2,
     "metadata": {},
     "output_type": "execute_result"
    }
   ],
   "source": [
    "\"\"\" MNIST Data set of Hand-Written Characters \"\"\"\n",
    "\n",
    "# fetch the dataset\n",
    "mnist = fetch_openml('mnist_784',version=1)\n",
    "print(\"Dictionary Keys:\")\n",
    "mnist.keys()"
   ]
  },
  {
   "cell_type": "code",
   "execution_count": 3,
   "metadata": {
    "scrolled": false
   },
   "outputs": [
    {
     "name": "stdout",
     "output_type": "stream",
     "text": [
      "(70000, 784)\n",
      "(70000,)\n"
     ]
    }
   ],
   "source": [
    "# Look at particular data arrays\n",
    "X,Y = mnist[\"data\"],mnist[\"target\"]\n",
    "print(np.shape(X))\n",
    "print(np.shape(Y))\n",
    "\n",
    "# there are 70,000 images, each with (28x28) pixels "
   ]
  },
  {
   "cell_type": "code",
   "execution_count": 4,
   "metadata": {},
   "outputs": [
    {
     "data": {
      "image/png": "[encoded data removed]",
      "text/plain": [
       "<Figure size 432x288 with 1 Axes>"
      ]
     },
     "metadata": {
      "needs_background": "light"
     },
     "output_type": "display_data"
    },
    {
     "name": "stdout",
     "output_type": "stream",
     "text": [
      "5\n"
     ]
    }
   ],
   "source": [
    "# Examine single digit\n",
    "digit = X[0]\n",
    "image = digit.reshape(28,28)\n",
    "\n",
    "plt.imshow(image,cmap=cm.binary,interpolation='nearest')\n",
    "plt.axis(\"off\")\n",
    "plt.show()\n",
    "# looks like a '5', print what it actually is\n",
    "print(Y[0])\n",
    "# it's labeled a 5!\n",
    "Y = Y.astype(np.uint8)"
   ]
  },
  {
   "cell_type": "code",
   "execution_count": 5,
   "metadata": {},
   "outputs": [],
   "source": [
    "# isolate training and testing datasets\n",
    "X_train,X_test = X[:60000],X[60000:]\n",
    "Y_train,Y_test = Y[:60000],Y[60000:]\n",
    "# already shuffled, so good cross validation"
   ]
  },
  {
   "cell_type": "code",
   "execution_count": 6,
   "metadata": {},
   "outputs": [
    {
     "data": {
      "text/plain": [
       "array([ True])"
      ]
     },
     "execution_count": 6,
     "metadata": {},
     "output_type": "execute_result"
    }
   ],
   "source": [
    "\"\"\" Training a Binary Classifier \"\"\"\n",
    "\n",
    "# Create a binary classifier as a \"5-Detector\", find all instances\n",
    "y_train_5 = (Y_train == 5)\n",
    "y_test_5 = (Y_test == 5)\n",
    "\n",
    "# start with \"Stochastic Gradient Descent\" (SGD) classifer\n",
    "from sklearn.linear_model import SGDClassifier\n",
    "\n",
    "sgd_clf = SGDClassifier(random_state=42)\n",
    "sgd_clf.fit(X_train,y_train_5)\n",
    "# this maps the X_training data (the images of digits)\n",
    "# To the known training values of '5'\n",
    "\n",
    "sgd_clf.predict([digit])\n",
    "# correctly identifies that x[0] is a 5!"
   ]
  },
  {
   "cell_type": "code",
   "execution_count": 7,
   "metadata": {},
   "outputs": [
    {
     "name": "stdout",
     "output_type": "stream",
     "text": [
      "Image Labeled as: 5\n"
     ]
    },
    {
     "data": {
      "image/png": "[encoded data removed]",
      "text/plain": [
       "<Figure size 432x288 with 1 Axes>"
      ]
     },
     "metadata": {
      "needs_background": "light"
     },
     "output_type": "display_data"
    },
    {
     "data": {
      "text/plain": [
       "array([ True])"
      ]
     },
     "execution_count": 7,
     "metadata": {},
     "output_type": "execute_result"
    }
   ],
   "source": [
    "idx = 2029\n",
    "# Run test on a single index in the training dataset\n",
    "test = X_test[idx]\n",
    "print(\"Image Labeled as:\",Y_test[idx])\n",
    "image = test.reshape(28,28)\n",
    "plt.imshow(image,cmap=cm.binary,interpolation='nearest')\n",
    "plt.axis(\"off\")\n",
    "plt.show()\n",
    "\n",
    "sgd_clf.predict([test])"
   ]
  },
  {
   "cell_type": "code",
   "execution_count": 8,
   "metadata": {},
   "outputs": [
    {
     "data": {
      "text/plain": [
       "array([0.95035, 0.96035, 0.9604 ])"
      ]
     },
     "execution_count": 8,
     "metadata": {},
     "output_type": "execute_result"
    }
   ],
   "source": [
    "\"\"\" Performance Measure \"\"\"\n",
    "\n",
    "# use cross_val_score() function to evaulate the SGD classifier\n",
    "from sklearn.model_selection import cross_val_score\n",
    "\n",
    "cross_val_score(sgd_clf,X_train,y_train_5,cv=3,scoring='accuracy')\n",
    "# Cross_val_score args: (Uses K-fold X-validation)\n",
    "    # classifier object\n",
    "    # x training data\n",
    "    # y training data (labeled data)\n",
    "    # cv = num of crossval folds\n",
    "    \n",
    "# prints: array([0.95035, 0.96035, 0.9604 ])\n",
    "# Mostly above 95% accuracy"
   ]
  },
  {
   "cell_type": "code",
   "execution_count": 9,
   "metadata": {},
   "outputs": [
    {
     "data": {
      "text/plain": [
       "array([0.91125, 0.90855, 0.90915])"
      ]
     },
     "execution_count": 9,
     "metadata": {},
     "output_type": "execute_result"
    }
   ],
   "source": [
    "from sklearn.base import BaseEstimator\n",
    "\n",
    "# Look at a 'dumb' classiifier - the \"never5Class\"\n",
    "\n",
    "class Never5Classifier (BaseEstimator):\n",
    "    def fit(self,X,Y=None):\n",
    "        pass\n",
    "    def predict(self,X):\n",
    "        return np.zeros((len(X),1),dtype=bool)\n",
    "    \n",
    "# test Model's accuracy\n",
    "never_5_clf = Never5Classifier()\n",
    "cross_val_score(never_5_clf,X_train,y_train_5,cv=3,scoring='accuracy')\n",
    "\n",
    "# prints: array([0.91125, 0.90855, 0.90915])\n",
    "# 90% accuracy - too bad 90% of data is NOT 5\n",
    "# This model is as good as just guessing"
   ]
  },
  {
   "cell_type": "code",
   "execution_count": 9,
   "metadata": {},
   "outputs": [
    {
     "name": "stdout",
     "output_type": "stream",
     "text": [
      "[[53892   687]\n",
      " [ 1891  3530]]\n"
     ]
    }
   ],
   "source": [
    "\"\"\" Confusion Matrix \"\"\"\n",
    "\n",
    "# Generally a Better way to evaluate the performance of a classifer object\n",
    "# Build a cross validation prediction model\n",
    "\n",
    "from sklearn.model_selection import cross_val_predict\n",
    "from sklearn.metrics import confusion_matrix\n",
    "\n",
    "y_train_pred = cross_val_predict(sgd_clf,X_train,y_train_5,cv=3)\n",
    "\n",
    "# used K-Fold X-Validation \n",
    "# Instead of evaluation score, model returns predictions of each test fold\n",
    "\n",
    "con_mat = confusion_matrix(y_train_5,y_train_pred)\n",
    "# Confusion Matrix Arguments:\n",
    "    # y_train_5 is raw training set\n",
    "    # y_train-pred is X-Val predicted data\n",
    "print(con_mat)"
   ]
  },
  {
   "cell_type": "code",
   "execution_count": 10,
   "metadata": {},
   "outputs": [
    {
     "data": {
      "text/plain": [
       "array([[54579,     0],\n",
       "       [    0,  5421]], dtype=int64)"
      ]
     },
     "execution_count": 10,
     "metadata": {},
     "output_type": "execute_result"
    }
   ],
   "source": [
    "# Pretend we have perfect model\n",
    "\n",
    "y_train_perfect_pred = y_train_5\n",
    "confusion_matrix(y_train_5,y_train_perfect_pred)\n",
    "\n",
    "# New confusion matrix - perfectly diagonal"
   ]
  },
  {
   "cell_type": "code",
   "execution_count": 11,
   "metadata": {},
   "outputs": [
    {
     "name": "stdout",
     "output_type": "stream",
     "text": [
      "Precision score: 0.8370879772350012\n",
      "Recall Score: 0.6511713705958311\n",
      "F1 Score: 0.7325171197343846\n"
     ]
    }
   ],
   "source": [
    "# Can also use Precision & Recall to verify legtimacy of model\n",
    "\n",
    "from sklearn.metrics import precision_score , recall_score\n",
    "\n",
    "# Precision score = (TP)/(TP+FN)\n",
    "pres = precision_score(y_train_5,y_train_pred)\n",
    "print(\"Precision score:\",pres)\n",
    "# recall score = (TP)/(TP + FN)\n",
    "recl = recall_score(y_train_5,y_train_pred)\n",
    "print(\"Recall Score:\",recl)\n",
    "\n",
    "# this indicates about the 5-Detector:\n",
    "# Finds a 5 correctly, only 83 % of the time\n",
    "# Only detects a 5, 65% of the time\n",
    "\n",
    "from sklearn.metrics import f1_score\n",
    "\n",
    "# Combined these metrics into an \"F_1 score\"\n",
    "# also called harmonic mean of precision & recall\n",
    "\n",
    "f1 = f1_score(y_train_5,y_train_pred)\n",
    "print(\"F1 Score:\",f1)\n"
   ]
  },
  {
   "cell_type": "code",
   "execution_count": 12,
   "metadata": {},
   "outputs": [
    {
     "name": "stdout",
     "output_type": "stream",
     "text": [
      "Classification Score: [2164.22030239]\n",
      "Is '5': [ True]\n",
      "Is '5': [False]\n"
     ]
    }
   ],
   "source": [
    "\"\"\" Find Score for Each Binary Classifier Decision \"\"\"\n",
    "\n",
    "# classification score\n",
    "y_scores = sgd_clf.decision_function([digit])\n",
    "print(\"Classification Score:\",y_scores)\n",
    "\n",
    "# manually set threshold\n",
    "threshold = 0\n",
    "y_digit_predict = (y_scores > threshold)\n",
    "print(\"Is '5':\",y_digit_predict)\n",
    "\n",
    "# SGD Classifier uses a threshold of 0 by default\n",
    "# manually set it to 20000 for example:\n",
    "\n",
    "threshold = 20000\n",
    "y_digit_predict = (y_scores > threshold)\n",
    "print(\"Is '5':\",y_digit_predict)\n",
    "\n",
    "# This decreases the recall score"
   ]
  },
  {
   "cell_type": "code",
   "execution_count": null,
   "metadata": {},
   "outputs": [],
   "source": [
    "\"\"\" Deciding a threshold to use \"\"\"\n",
    "\n",
    "# get scores of all instances in the training set, using cross_val_predict()\n",
    "# Use decision function instead of predictions\n",
    "y_scores = cross_val_predict(sgd_clf,X_train,y_train_5,\n",
    "                             cv=3,method='decision_function')\n",
    "\n",
    "# All precisions & Recalls can be computed \n",
    "from sklearn.metrics import precision_recall_curve\n",
    "\n",
    "precisions,recalls,thresholds = precision_recall_curve(Y_train_5,y_scores)\n"
   ]
  },
  {
   "cell_type": "code",
   "execution_count": null,
   "metadata": {},
   "outputs": [],
   "source": [
    "def Plot_Precision_Recall (precs,recalls,threshs):\n",
    "    \"\"\" Matplotlib precision Recall Curve \"\"\"\n",
    "    plt.figure(figsize=(20,8))\n",
    "    plt.xlabel(\"Threshold\",size=20,weight='bold')\n",
    "    plt.plot(threshs,precesions[:-1],'b--',label=\"Precision\")\n",
    "    plt.plot(threshs,recalls[:-1],'g--',label='Recall')\n",
    "    plt.ylim([0,1])\n",
    "    plt.legend()\n",
    "    plt.grid()\n",
    "    plt.tight_layout()\n",
    "    plt.show()"
   ]
  }
 ],
 "metadata": {
  "kernelspec": {
   "display_name": "Python 3",
   "language": "python",
   "name": "python3"
  },
  "language_info": {
   "codemirror_mode": {
    "name": "ipython",
    "version": 3
   },
   "file_extension": ".py",
   "mimetype": "text/x-python",
   "name": "python",
   "nbconvert_exporter": "python",
   "pygments_lexer": "ipython3",
   "version": "3.7.3"
  }
 },
 "nbformat": 4,
 "nbformat_minor": 2
}
