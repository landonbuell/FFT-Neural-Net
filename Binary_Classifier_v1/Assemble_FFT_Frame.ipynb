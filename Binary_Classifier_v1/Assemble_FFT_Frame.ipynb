{
 "cells": [
  {
   "cell_type": "code",
   "execution_count": 1,
   "metadata": {},
   "outputs": [],
   "source": [
    "\"\"\"\n",
    "Landon Buell\n",
    "Kevin Short\n",
    "Binary Classifier - v0\n",
    "24 Novemeber 2019\n",
    "\"\"\"\n",
    "\n",
    "            #### IMPORTS ####\n",
    "\n",
    "import numpy as np\n",
    "import matplotlib.pyplot as plt\n",
    "import pandas as pd\n",
    "import os"
   ]
  },
  {
   "cell_type": "code",
   "execution_count": 2,
   "metadata": {},
   "outputs": [],
   "source": [
    "class file_obj ():\n",
    "    \"\"\" Create Raw wavefile object \"\"\"\n",
    "    def __init__(self,root,file):\n",
    "        \"\"\" Initialize Class Object \"\"\"\n",
    "        self.dirpath = root                     # intial storage path\n",
    "        self.file = file                        # filename\n",
    "\n",
    "def read_directory(dir):\n",
    "    \"\"\" Read all files in given directory path \"\"\"\n",
    "    file_objs = []                          # list to '.txt' hold files objs\n",
    "    for roots,dirs,files in os.walk(dir):   # all objects in the path\n",
    "        for file in files:                  # files in list of files\n",
    "            if file.endswith('.txt'):       # if '.txt' file\n",
    "                wav = file_obj(roots,file)  # make instance\n",
    "                file_objs.append(wav)       # add to list of file objs\n",
    "    return file_objs                        # return lists  of files\n",
    "\n",
    "def Read_CSV(filename,skip=1,cols=[0,1,2,3]):\n",
    "    \"\"\" Read Data From CSV File into pandas dataframe \"\"\"\n",
    "    data = np.loadtxt(filename,dtype=float,delimiter='\\t',\n",
    "                      skiprows=skip,usecols=cols)\n",
    "    return data"
   ]
  },
  {
   "cell_type": "code",
   "execution_count": 3,
   "metadata": {},
   "outputs": [
    {
     "name": "stdout",
     "output_type": "stream",
     "text": [
      "Loaded Target Data\n",
      "Number of Files: 1040\n"
     ]
    }
   ],
   "source": [
    "    #### Find All Files & Create Objects ####\n",
    "\n",
    "intdir = 'C:/Users/Landon/Documents/GitHub/FFT-Neural-Net/Binary_Classifier_v0'\n",
    "os.chdir(intdir)\n",
    "target = Read_CSV('is_string.txt',skip=0,cols=[0])\n",
    "target = pd.DataFrame(target)\n",
    "print(\"Loaded Target Data\")\n",
    "\n",
    "FFT_dir = 'C:/Users/Landon/Documents/wav_FFTs'\n",
    "os.chdir(FFT_dir)\n",
    "files = read_directory(FFT_dir)\n",
    "print(\"Number of Files:\",len(files))\n"
   ]
  },
  {
   "cell_type": "code",
   "execution_count": 42,
   "metadata": {
    "scrolled": false
   },
   "outputs": [
    {
     "name": "stdout",
     "output_type": "stream",
     "text": [
      "Collecting Data...\n",
      "<class 'pandas.core.frame.DataFrame'>\n",
      "RangeIndex: 23778 entries, 0 to 23777\n",
      "Columns: 1040 entries, Bassoon.ff.A3.stereo.wav.txt to Cello.arco.ff.sulG.Gb3.stereo.wav.txt\n",
      "dtypes: float64(1040)\n",
      "memory usage: 188.7 MB\n",
      "None\n"
     ]
    }
   ],
   "source": [
    "        #### Read Through All files, Assemble into single Dataframe ####\n",
    "L_FFT_Frame = pd.DataFrame()\n",
    "print(\"Collecting Data...\")\n",
    "\n",
    "for file in files:                          # It. through list of objs \n",
    "    os.chdir(file.dirpath)                  # move to directory path\n",
    "    frame = Read_CSV(file.file,cols=[2])    # read the CSV file\n",
    "    L_FFT_Frame[str(file.file)] = frame     # add to large data frame\n",
    "    \n",
    "print(L_FFT_Frame.info())\n",
    "#print(L_FFT_Frame.head())\n",
    "\n"
   ]
  },
  {
   "cell_type": "code",
   "execution_count": 43,
   "metadata": {},
   "outputs": [],
   "source": [
    "os.chdir(intdir)\n",
    "L_FFT_Frame.to_csv('L_FFT_Frame.txt',sep='\\t')"
   ]
  },
  {
   "cell_type": "code",
   "execution_count": 4,
   "metadata": {},
   "outputs": [
    {
     "name": "stdout",
     "output_type": "stream",
     "text": [
      "Collecting Data...\n",
      "<class 'pandas.core.frame.DataFrame'>\n",
      "RangeIndex: 23778 entries, 0 to 23777\n",
      "Columns: 1040 entries, Bassoon.ff.A3.stereo.wav.txt to Cello.arco.ff.sulG.Gb3.stereo.wav.txt\n",
      "dtypes: float64(1040)\n",
      "memory usage: 188.7 MB\n",
      "None\n"
     ]
    }
   ],
   "source": [
    "        #### Read Through All files, Assemble into single Dataframe ####\n",
    "R_FFT_Frame = pd.DataFrame()\n",
    "print(\"Collecting Data...\")\n",
    "\n",
    "for file in files:                          # It. through list of objs \n",
    "    os.chdir(file.dirpath)                  # move to directory path\n",
    "    frame = Read_CSV(file.file,cols=[3])    # read the CSV file\n",
    "    R_FFT_Frame[str(file.file)] = frame     # add to large data frame\n",
    "    \n",
    "print(R_FFT_Frame.info())\n",
    "#print(L_FFT_Frame.head())\n"
   ]
  },
  {
   "cell_type": "code",
   "execution_count": 5,
   "metadata": {},
   "outputs": [],
   "source": [
    "os.chdir(intdir)\n",
    "R_FFT_Frame.to_csv('R_FFT_Frame.txt',sep='\\t')"
   ]
  },
  {
   "cell_type": "code",
   "execution_count": null,
   "metadata": {},
   "outputs": [],
   "source": []
  }
 ],
 "metadata": {
  "kernelspec": {
   "display_name": "Python 3",
   "language": "python",
   "name": "python3"
  },
  "language_info": {
   "codemirror_mode": {
    "name": "ipython",
    "version": 3
   },
   "file_extension": ".py",
   "mimetype": "text/x-python",
   "name": "python",
   "nbconvert_exporter": "python",
   "pygments_lexer": "ipython3",
   "version": "3.7.3"
  }
 },
 "nbformat": 4,
 "nbformat_minor": 2
}
